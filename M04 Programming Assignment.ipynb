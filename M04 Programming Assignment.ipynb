{
 "cells": [
  {
   "cell_type": "code",
   "execution_count": 3,
   "id": "f2ce202a",
   "metadata": {},
   "outputs": [
    {
     "name": "stdout",
     "output_type": "stream",
     "text": [
      "Open 9-5 daily\n",
      "None\n"
     ]
    }
   ],
   "source": [
    "#11.1\n",
    "import zoo\n",
    "\n",
    "time = zoo.hours()\n",
    "\n",
    "print(time)\n"
   ]
  },
  {
   "cell_type": "code",
   "execution_count": 4,
   "id": "92834e65",
   "metadata": {},
   "outputs": [
    {
     "name": "stdout",
     "output_type": "stream",
     "text": [
      "Open 9-5 daily\n",
      "None\n"
     ]
    }
   ],
   "source": [
    "#11.2\n",
    "import zoo as menagerie\n",
    "\n",
    "time = menagerie.hours()\n",
    "\n",
    "print(time)\n"
   ]
  },
  {
   "cell_type": "markdown",
   "id": "90b49938",
   "metadata": {},
   "source": [
    "16.3\n",
    "I created the file it will be inclued in the github.\n"
   ]
  },
  {
   "cell_type": "code",
   "execution_count": null,
   "id": "c7f4d1d6",
   "metadata": {},
   "outputs": [],
   "source": [
    "#16.4\n",
    "import sqlite3\n",
    "conn = sqlite3.connect(\"books.db\")\n",
    "curs = conn.cursor()\n",
    "curs.execute(\"CREATE TABLE book (title VARCHAR(20) PRIMARY KEY, author VARCHAR(20), year INT)\")  "
   ]
  },
  {
   "cell_type": "code",
   "execution_count": 1,
   "id": "dd8f8a50",
   "metadata": {},
   "outputs": [
    {
     "name": "stdout",
     "output_type": "stream",
     "text": [
      "[('The Weirdstone of Brisingamen', 'Alan Garner', 1960), ('Perdido Street Station', 'China Miéville', 2000), ('Thud!', 'Terry Pratchett', 2005), ('The Spellman Files', 'Lisa Lutz', 2007), ('Small Gods', 'Terry Pratchett', 1992)]\n"
     ]
    }
   ],
   "source": [
    "#16.5\n",
    "import sqlite3\n",
    "import pandas\n",
    "data = pandas.read_csv('books2.csv')\n",
    "conn = sqlite3.connect(\"books.db\")\n",
    "curs = conn.cursor()\n",
    "curs.execute(\"CREATE TABLE book (title VARCHAR(20) PRIMARY KEY, author VARCHAR(20), year INT)\")  \n",
    "for i, row in data.iterrows():\n",
    "    curs.execute('INSERT INTO book VALUES(?, ?, ?)',(row['title'],row['author'],row['year']))\n",
    "curs.execute('SELECT * FROM book')\n",
    "\n",
    "row=curs.fetchall()\n",
    "print(row)"
   ]
  },
  {
   "cell_type": "code",
   "execution_count": 11,
   "id": "ffe1c9e6",
   "metadata": {},
   "outputs": [
    {
     "name": "stdout",
     "output_type": "stream",
     "text": [
      "('Perdido Street Station',)\n",
      "('Small Gods',)\n",
      "('The Spellman Files',)\n",
      "('The Weirdstone of Brisingamen',)\n",
      "('Thud!',)\n"
     ]
    }
   ],
   "source": [
    "#16.8\n",
    "import sqlalchemy as sa\n",
    "import pandas\n",
    "data = pandas.read_csv('books2.csv')\n",
    "conn = sa.create_engine('sqlite://')\n",
    "conn.execute(\"CREATE TABLE book (title VARCHAR(20) PRIMARY KEY, author VARCHAR(20), year INT)\")  \n",
    "for i, row in data.iterrows():\n",
    "    conn.execute('INSERT INTO book VALUES(?, ?, ?)',(row['title'],row['author'],row['year']))\n",
    "read = conn.execute('SELECT title FROM book')\n",
    "\n",
    "for row in read:\n",
    "    print(row)"
   ]
  }
 ],
 "metadata": {
  "kernelspec": {
   "display_name": "Python 3 (ipykernel)",
   "language": "python",
   "name": "python3"
  },
  "language_info": {
   "codemirror_mode": {
    "name": "ipython",
    "version": 3
   },
   "file_extension": ".py",
   "mimetype": "text/x-python",
   "name": "python",
   "nbconvert_exporter": "python",
   "pygments_lexer": "ipython3",
   "version": "3.10.9"
  }
 },
 "nbformat": 4,
 "nbformat_minor": 5
}
